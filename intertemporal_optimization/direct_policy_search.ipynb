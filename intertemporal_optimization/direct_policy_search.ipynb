{
 "cells": [
  {
   "cell_type": "code",
   "execution_count": 11,
   "metadata": {},
   "outputs": [],
   "source": [
    "# Reference paper:\n",
    "# Duarte 2018, Gradient-Based Structural Estimation (working paper)"
   ]
  },
  {
   "cell_type": "code",
   "execution_count": 2,
   "metadata": {},
   "outputs": [],
   "source": [
    "%%capture\n",
    "# Download data\n",
    "!wget https://raw.githubusercontent.com/vduarte/gsb_summer_course/master/intertemporal_optimization/C.npy\n",
    "!wget https://raw.githubusercontent.com/vduarte/gsb_summer_course/master/intertemporal_optimization/xgrid.npy"
   ]
  },
  {
   "cell_type": "code",
   "execution_count": 12,
   "metadata": {},
   "outputs": [],
   "source": [
    "# Import libraries\n",
    "import numpy as np\n",
    "import tensorflow as tf\n",
    "import matplotlib.pyplot as plt\n",
    "from tensorflow.keras import Sequential\n",
    "from tensorflow.keras.layers import Dense\n",
    "import tensorflow_probability as tfp\n",
    "%matplotlib inline"
   ]
  },
  {
   "cell_type": "code",
   "execution_count": 13,
   "metadata": {},
   "outputs": [],
   "source": [
    "# Terminal date\n",
    "T = 9\n",
    "\n",
    "# Network design and optization hyperparameters\n",
    "batch_size = 5000\n",
    "\n",
    "optimizer = tf.keras.optimizers.Adam()\n",
    "\n",
    "state_size = 2\n",
    "\n",
    "\n",
    "# function that creates a network\n",
    "def net():\n",
    "    model = Sequential([Dense(64, 'relu', input_shape=(state_size,)),\n",
    "                        Dense(64, 'relu'),\n",
    "                        Dense(1, 'sigmoid')])\n",
    "    return model\n",
    "\n",
    "\n",
    "n = [net() for _ in range(T)]\n",
    "Θ = [n[t].weights for t in range(T)]\n",
    "Θ = [item for sublist in Θ for item in sublist]\n",
    "\n",
    "\n",
    "def normalize(x, e):\n",
    "    x = (x - μx) / σx\n",
    "    e = (e - μe) / σe\n",
    "\n",
    "    X = tf.concat([x, e], 1)\n",
    "    return X\n",
    "\n",
    "\n",
    "# Normalization for x and e\n",
    "μx = 2.\n",
    "σx = 1.\n",
    "\n",
    "μe = 0.\n",
    "σe = .14\n"
   ]
  },
  {
   "cell_type": "code",
   "execution_count": 14,
   "metadata": {},
   "outputs": [],
   "source": [
    "# %% Economic Model ------------------------------------------------------\n",
    "\n",
    "# Model parameters\n",
    "σ_ε = 0.02058\n",
    "λ_ε = 0.99\n",
    "β = .97\n",
    "γ = 2.\n",
    "\n",
    "# Prices\n",
    "r = 0.07\n",
    "w = 5\n",
    "\n",
    "def u(C, γ):\n",
    "    return C**(1 - γ) / (1 - γ)\n",
    "\n",
    "\n",
    "def simulate(return_results=False):\n",
    "    x0 = tf.random.uniform([batch_size, 1], minval=.01, maxval=4)\n",
    "    e0 = tf.random.uniform([batch_size, 1], minval=-.25, maxval=.25)\n",
    "\n",
    "    # Normal shock at t=0\n",
    "    def ε():\n",
    "        return tf.random.normal(shape=[batch_size, 1])\n",
    "\n",
    "    # Organize variables and shocks in dictionaries\n",
    "    x = {0: x0}\n",
    "    e = {0: e0}\n",
    "    s = {}\n",
    "    y = {}\n",
    "    C = {}\n",
    "\n",
    "    for t in range(T):\n",
    "        # The inputs of the network are wealth and productivity at t\n",
    "        X = normalize(x[t], e[t])\n",
    "        s[t] = n[t](X)\n",
    "\n",
    "        # Disposable income\n",
    "        y[t] = (1 + r) * x[t] + tf.exp(e[t]) * w\n",
    "\n",
    "        # Consumption\n",
    "        C[t] = (1 - s[t]) * y[t]\n",
    "\n",
    "        # Next states\n",
    "        e[t + 1] = λ_ε * e[t] + σ_ε * ε()\n",
    "        x[t + 1] = s[t] * y[t]\n",
    "\n",
    "    # Terminal values\n",
    "    C[T] = (1 + r) * x[T] + tf.exp(e[T]) * w\n",
    "\n",
    "    V = sum([β**t * u(C[t], γ) for t in range(T + 1)])\n",
    "    \n",
    "    if return_results:\n",
    "        return -V, [x, e]\n",
    "    else:\n",
    "        return -V\n",
    "\n",
    "\n",
    "@tf.function\n",
    "def training_step():\n",
    "    optimizer.minimize(simulate, Θ)\n"
   ]
  },
  {
   "cell_type": "code",
   "execution_count": 15,
   "metadata": {},
   "outputs": [
    {
     "name": "stdout",
     "output_type": "stream",
     "text": [
      "0.0%\n",
      "10.0%\n",
      "20.0%\n",
      "30.0%\n",
      "40.0%\n",
      "50.0%\n",
      "60.0%\n",
      "70.0%\n",
      "80.0%\n",
      "90.0%\n"
     ]
    }
   ],
   "source": [
    "n_iterations = 10000\n",
    "for iteration in range(n_iterations):\n",
    "    training_step()\n",
    "    if iteration % 1000 == 0:\n",
    "        print(str((iteration) / n_iterations * 100) + '%')"
   ]
  },
  {
   "cell_type": "code",
   "execution_count": 17,
   "metadata": {},
   "outputs": [
    {
     "data": {
      "image/png": "[encoded data removed]",
      "text/plain": [
       "<Figure size 432x288 with 1 Axes>"
      ]
     },
     "metadata": {
      "needs_background": "light"
     },
     "output_type": "display_data"
    }
   ],
   "source": [
    "xgrid = np.load('xgrid.npy')\n",
    "C = np.load('C.npy')\n",
    "\n",
    "\n",
    "def plot():\n",
    "\n",
    "    V, results = simulate(return_results=True)\n",
    "    def plot_one(t, color):\n",
    "        xt = results[0][t]\n",
    "        et = tf.zeros_like(xt)\n",
    "\n",
    "        X = normalize(xt, et)\n",
    "        s = n[t](X)\n",
    "\n",
    "        # Disposable income\n",
    "        y = (1 + r) * xt + tf.exp(et) * w\n",
    "\n",
    "        # Consumption\n",
    "        C = (1 - s) * y\n",
    "\n",
    "        plt.scatter(xt, C, s=1, color=color)\n",
    "\n",
    "    plot_one(t=0, color='b')\n",
    "    plot_one(t=3, color='r')\n",
    "    plot_one(t=6, color='g')\n",
    "\n",
    "    plt.plot(xgrid, C[0, :, 10], color='k')\n",
    "    plt.plot(xgrid, C[3, :, 10], color='k')\n",
    "    plt.plot(xgrid, C[6, :, 10], color='k')\n",
    "    \n",
    "    plt.xlabel('x')\n",
    "    plt.ylabel('C')\n",
    "\n",
    "    plt.show()\n",
    "    plt.pause(1e-9)\n",
    "    \n",
    "plot()"
   ]
  }
 ],
 "metadata": {
  "kernelspec": {
   "display_name": "Python 3",
   "language": "python",
   "name": "python3"
  },
  "language_info": {
   "codemirror_mode": {
    "name": "ipython",
    "version": 3
   },
   "file_extension": ".py",
   "mimetype": "text/x-python",
   "name": "python",
   "nbconvert_exporter": "python",
   "pygments_lexer": "ipython3",
   "version": "3.7.6"
  }
 },
 "nbformat": 4,
 "nbformat_minor": 4
}

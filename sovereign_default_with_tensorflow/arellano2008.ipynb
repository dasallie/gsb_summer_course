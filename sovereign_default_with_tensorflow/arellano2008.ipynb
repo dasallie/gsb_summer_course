{
 "cells": [
  {
   "cell_type": "markdown",
   "metadata": {},
   "source": [
    "# Sovereign Default Model (Arellano AER 2008)"
   ]
  },
  {
   "cell_type": "markdown",
   "metadata": {
    "colab": {
     "base_uri": "https://localhost:8080/",
     "height": 107
    },
    "colab_type": "code",
    "id": "4IItGrzV8dWZ",
    "outputId": "6efd7c9f-c4dc-4a85-f06a-2fda61595655"
   },
   "source": [
    "This notebook accompanies the paper \"Benchmarking Machine Learning Software and Hardware for Quantitative Economics\" and shows how to solve the sovereign default model of Arellano (AER 2008) using TensorFlow. Below you will find a short summary of the model. For a more detailed desciption, see the main text or https://lectures.quantecon.org/py/arellano.html."
   ]
  },
  {
   "cell_type": "markdown",
   "metadata": {},
   "source": [
    "## Model Description\n",
    "A benevolent government chooses a consumption plan $\\{c_t\\}$ and government asset holdings of one-period discount bonds $\\{B_{t+1}\\}$ to maximize its citizens expected discounted utility\n",
    "\\begin{align}\\label{eq:utility}\n",
    "E_0\\sum_{t=0}^\\infty\\beta^t \\frac{c_t^{1-\\gamma}}{1-\\gamma},\n",
    "\\end{align}\n",
    "where $\\beta\\in(0,1)$ is the time preference parameter and $\\gamma>0$ the relative risk aversion parameter.\n",
    "In addition, households receive a stochastic stream of tradable good $\\{y_t\\}$.\n",
    "\n",
    "\n",
    "At each period, the government can choose to default on its obligation or to repay its debt.\n",
    "If the government decides to default on its obligation, it is immediately excluded from international financial markets and households consume output $y_t^{def}$, which is lower during financial autarky\n",
    "\\begin{equation}\n",
    "c_t = y^{def}_t \\equiv  \\left\\{\\begin{array}{cc} y_t & \\text{ if }  y_t < \\hat{y}\\\\ \\hat{y} & \\text{ if }  y_t \\geq \\hat{y} \\end{array}\\right.,\n",
    "\\end{equation}\n",
    "for some exogenous threshold $\\hat{y}$.\n",
    "If the government decides to pay its debt, it can access international financial markets to buy one-period bonds $B_{t+1}$ at a competitive endogenous price $q(B_{t+1},y_t)$. The resource constraint is given by\n",
    "\n",
    "\\begin{equation*}\n",
    "c_t = y_t + B_t - q(B_{t+1},y_t) B_{t+1}.\n",
    "\\end{equation*}\n",
    "\n",
    "Lenders are risk-neutral and lend at the constant rate $r>0$. The bond price then given by\n",
    "\\begin{equation*}\n",
    "q(B_{t+1},y_t)= \\frac{1- \\delta(B_{t+1},y_t)}{1+r},\n",
    "\\end{equation*}\n",
    "where $\\delta(B_{t+1},y_t)$ is the endogenous probability of default.\n",
    "\n",
    "Denoting the government's value function by $\\nu^o(B,y)$, we can write this problem recursively as\n",
    "\\begin{equation*}\n",
    "\\nu^o(B,y) = \\max_{\\{c,d\\}}\\left\\{\\nu^c(B,y),\\nu^d(y)\\right\\},\n",
    "\\end{equation*}\n",
    "where\n",
    "\\begin{align*}\n",
    "\\nu^d(y) &= u(y^{def}) + \\beta\\left[\\theta\\mathbb{E}\\nu^o(0,y') + (1-\\theta)\\mathbb{E}\\nu^d(y')\\right],\\\\\n",
    "\\nu^c(B,y)& = \\max_{B'}\\left\\{u(y - q(B',y)B' + B) + \\beta\\mathbb{E}\\nu^o(B',y')\\right\\}.\n",
    "\\end{align*}\n",
    "The parameter $\\theta$ represents the probability of the government regaining access to international credit markets. Finally, the probability of default is given by\n",
    "\n",
    "\\begin{equation}\n",
    "\\delta(B',y) = \\mathbb{E}\\left[\\nu^d(y') > \\nu^c(B', y')\\right]\n",
    "\\end{equation}"
   ]
  },
  {
   "cell_type": "code",
   "execution_count": null,
   "metadata": {},
   "outputs": [],
   "source": [
    "# Import libraries\n",
    "import numpy as np\n",
    "import tensorflow as tf\n",
    "import matplotlib.pyplot as plt\n",
    "from mpl_toolkits.mplot3d import axes3d\n",
    "\n",
    "# Plotting preferences\n",
    "%matplotlib inline\n",
    "%config InlineBackend.figure_format = 'svg'"
   ]
  },
  {
   "cell_type": "code",
   "execution_count": null,
   "metadata": {},
   "outputs": [],
   "source": [
    "%%capture\n",
    "# Download grid data and transition matrix\n",
    "!wget https://raw.githubusercontent.com/vduarte/gsb_summer_course/master/sovereign_default_with_tensorflow/P.txt\n",
    "!wget https://raw.githubusercontent.com/vduarte/gsb_summer_course/master/sovereign_default_with_tensorflow/logy_grid.txt"
   ]
  },
  {
   "cell_type": "code",
   "execution_count": null,
   "metadata": {},
   "outputs": [],
   "source": [
    "# load grid for log endowment\n",
    "logy_grid = np.loadtxt('./logy_grid.txt', dtype=np.float32)\n",
    "\n",
    "# load Transition matrix, computed with Tauchen's method\n",
    "Py = np.loadtxt('./P.txt', dtype=np.float32)\n",
    "\n",
    "# Grid size for endowment\n",
    "ny = len(logy_grid)\n",
    "\n",
    "# Model parameters\n",
    "β = .953\n",
    "γ = 2.\n",
    "r = 0.017\n",
    "θ = 0.282\n",
    "\n",
    "repeats = 500 # Number of repeations \n",
    "nB = 1151 # Grid size for bond holdings\n",
    "\n",
    "MAX_ITER = 10000  # Maximum number of iterations\n",
    "tol = 1e-4  # Tolerance for value iteration"
   ]
  },
  {
   "cell_type": "code",
   "execution_count": null,
   "metadata": {},
   "outputs": [],
   "source": [
    "# Grid for bond holdings\n",
    "Bgrid = tf.linspace(-.45, .45, nB)\n",
    "ygrid = tf.exp(logy_grid)\n",
    "\n",
    "# Initialize value functions and bond price\n",
    "Vd = tf.Variable(tf.zeros([ny, 1]))   # Value function when if sov. defaults\n",
    "Vc = tf.Variable(tf.zeros((ny, nB)))  # Value function when if sov. does not default\n",
    "V = tf.Variable(tf.zeros((ny, nB)))   # Value function\n",
    "Q = tf.Variable(tf.ones((ny, nB)) * .95)  # Bond price\n",
    "default_prob = tf.Variable(tf.zeros((ny, nB)))  # Probability of default\n",
    "\n",
    "# Reshape grids to facilitate broacasting operations. Dimensions are:\n",
    "# 0: endowment dimension\n",
    "# 1: Bondholdings dimension\n",
    "# 2: Bondholdings in the next period dimension\n",
    "y = tf.reshape(ygrid, [-1, 1, 1])\n",
    "B = tf.reshape(Bgrid, [1, -1, 1])\n",
    "Bnext = tf.reshape(Bgrid, [1, 1, -1])\n",
    "\n",
    "zero_ind = nB // 2  # Index of zero bond holdings\n",
    "\n",
    "# Utility function\n",
    "def u(c):\n",
    "    return c**(1 - γ) / (1 - γ)\n",
    "\n",
    "# Endowment in autarky\n",
    "def_y = tf.minimum(0.9776, ygrid)\n",
    "\n",
    "# Main iteration\n",
    "@tf.function(experimental_compile=True)\n",
    "def iterate():\n",
    "    # Endowment in autarky\n",
    "    def_y = tf.minimum(0.9776, ygrid)\n",
    "\n",
    "    # Expectations\n",
    "    EV = Py @ V\n",
    "    EVd = Py @ Vd\n",
    "    EVc = Py @ Vc\n",
    "\n",
    "    # bellman target for Vd\n",
    "    Vd_target = u(def_y) + β * (θ * EVc[:, zero_ind] + (1 - θ) * EVd[:, 0])\n",
    "    Vd_target = tf.reshape(Vd_target, [-1, 1])\n",
    "    Vd.assign(Vd_target)\n",
    "\n",
    "    # bond price next period\n",
    "    Qnext = tf.expand_dims(Q, axis=1)\n",
    "\n",
    "    # Bellman target for Vc\n",
    "    c = tf.nn.relu(y - Qnext * Bnext + B)\n",
    "    EV = tf.expand_dims(EV, axis=1)\n",
    "    m = u(c) + β * EV\n",
    "    Vc_target = tf.reduce_max(m, axis=2)\n",
    "    Vc.assign(Vc_target)\n",
    "\n",
    "    # Update bond price--- risk neutral pricing\n",
    "    default_states = tf.cast(Vd > Vc, tf.float32)\n",
    "    default_prob.assign(Py @ default_states)\n",
    "    Q_target = (1 - default_prob) / (1 + r)\n",
    "    Q.assign(Q_target)\n",
    "\n",
    "    # Value function\n",
    "    V.assign(tf.maximum(Vc, Vd))"
   ]
  },
  {
   "cell_type": "code",
   "execution_count": null,
   "metadata": {},
   "outputs": [],
   "source": [
    "# Now iterate until convergence. We say that the procedure \"converged\" if the difference between V\n",
    "# and it's previous value is less than tol. Finally we monitor that difference by printing it\n",
    "# every 50 iterations\n",
    "V_ = V.numpy()\n",
    "\n",
    "for counter in range(MAX_ITER):\n",
    "    iterate()\n",
    "    if counter % 50 == 0 and counter > 10:\n",
    "        V_new_ = V.numpy()\n",
    "        dist = np.abs(V_ - V_new_).max()\n",
    "        V_ = V_new_\n",
    "        print(\"Max error = \" + str(dist))\n",
    "\n",
    "        if dist < tol:\n",
    "            print('\\n\\nConverged!')\n",
    "            break"
   ]
  },
  {
   "cell_type": "code",
   "execution_count": null,
   "metadata": {
    "colab": {
     "base_uri": "https://localhost:8080/",
     "height": 433
    },
    "colab_type": "code",
    "id": "fL2XBX_38Vo2",
    "outputId": "6427d6f7-7108-44c3-89be-e3877e77944c"
   },
   "outputs": [],
   "source": [
    "# Create some plots\n",
    "plt.style.use('seaborn-whitegrid')\n",
    "X, Y, Z = Bgrid.numpy(), ygrid.numpy(), default_prob.numpy()\n",
    "\n",
    "X, Y = np.meshgrid(X, Y)\n",
    "fig = plt.figure(figsize=[12, 6])\n",
    "ax = fig.add_subplot(111, projection='3d')\n",
    "ax.plot_surface(X, Y, Z, rstride=5, cstride=5, linewidth=0)\n",
    "plt.xlabel(\"B'\")\n",
    "plt.ylabel('y')\n",
    "plt.title('Probability of Default')\n",
    "\n"
   ]
  },
  {
   "cell_type": "code",
   "execution_count": null,
   "metadata": {},
   "outputs": [],
   "source": []
  }
 ],
 "metadata": {
  "accelerator": "GPU",
  "colab": {
   "collapsed_sections": [],
   "name": "Arellano 2008 on TF.ipynb",
   "provenance": [],
   "version": "0.3.2"
  },
  "kernelspec": {
   "display_name": "Python 3",
   "language": "python",
   "name": "python3"
  },
  "language_info": {
   "codemirror_mode": {
    "name": "ipython",
    "version": 3
   },
   "file_extension": ".py",
   "mimetype": "text/x-python",
   "name": "python",
   "nbconvert_exporter": "python",
   "pygments_lexer": "ipython3",
   "version": "3.7.6"
  },
  "latex_envs": {
   "LaTeX_envs_menu_present": true,
   "autoclose": false,
   "autocomplete": true,
   "bibliofile": "biblio.bib",
   "cite_by": "apalike",
   "current_citInitial": 1,
   "eqLabelWithNumbers": true,
   "eqNumInitial": 1,
   "hotkeys": {
    "equation": "Ctrl-E",
    "itemize": "Ctrl-I"
   },
   "labels_anchors": false,
   "latex_user_defs": false,
   "report_style_numbering": false,
   "user_envs_cfg": false
  }
 },
 "nbformat": 4,
 "nbformat_minor": 2
}

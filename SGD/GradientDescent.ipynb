{
 "cells": [
  {
   "cell_type": "code",
   "execution_count": 1,
   "metadata": {},
   "outputs": [],
   "source": [
    "import numpy as np\n",
    "import matplotlib.pyplot as plt\n",
    "\n",
    "def f(x):\n",
    "    return (x - 1)**2\n",
    "\n",
    "def grad(x):\n",
    "    return 2 * (x - 1)\n",
    "    \n",
    "def update(x0):\n",
    "    α = 0.1\n",
    "    x1 = x0 - α * grad(x0)\n",
    "    return x1\n",
    "    "
   ]
  },
  {
   "cell_type": "code",
   "execution_count": 5,
   "metadata": {},
   "outputs": [
    {
     "name": "stdout",
     "output_type": "stream",
     "text": [
      "4.0\n",
      "3.4\n",
      "2.92\n",
      "2.536\n",
      "2.2288\n",
      "1.9830400000000001\n",
      "1.786432\n",
      "1.6291456\n",
      "1.50331648\n",
      "1.402653184\n",
      "1.3221225472\n",
      "1.25769803776\n",
      "1.206158430208\n",
      "1.1649267441664\n",
      "1.1319413953331199\n",
      "1.105553116266496\n",
      "1.0844424930131968\n",
      "1.0675539944105574\n",
      "1.054043195528446\n",
      "1.0432345564227568\n",
      "1.0345876451382054\n",
      "1.0276701161105644\n",
      "1.0221360928884515\n",
      "1.0177088743107612\n",
      "1.014167099448609\n",
      "1.0113336795588872\n",
      "1.0090669436471098\n",
      "1.0072535549176878\n",
      "1.0058028439341502\n",
      "1.00464227514732\n"
     ]
    }
   ],
   "source": [
    "x0 = 4.\n",
    "\n",
    "for counter in range(30):\n",
    "    print(x0)\n",
    "    x0 = update(x0)\n",
    "    "
   ]
  },
  {
   "cell_type": "code",
   "execution_count": null,
   "metadata": {},
   "outputs": [],
   "source": []
  }
 ],
 "metadata": {
  "kernelspec": {
   "display_name": "Python 3",
   "language": "python",
   "name": "python3"
  },
  "language_info": {
   "codemirror_mode": {
    "name": "ipython",
    "version": 3
   },
   "file_extension": ".py",
   "mimetype": "text/x-python",
   "name": "python",
   "nbconvert_exporter": "python",
   "pygments_lexer": "ipython3",
   "version": "3.7.6"
  }
 },
 "nbformat": 4,
 "nbformat_minor": 4
}

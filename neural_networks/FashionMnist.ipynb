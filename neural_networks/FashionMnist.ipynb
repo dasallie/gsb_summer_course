{
 "cells": [
  {
   "cell_type": "code",
   "execution_count": 2,
   "metadata": {},
   "outputs": [],
   "source": [
    "%%capture\n",
    "# Download data\n",
    "!wget https://www.dropbox.com/s/a5t4txdgkys6rob/X.npy?dl=0;\n",
    "!wget https://www.dropbox.com/s/jqmqptvtlg1lnf1/y.npy?dl=0;\n",
    "!mv X.npy?dl=0 X.npy; mv y.npy?dl=0 y.npy;"
   ]
  },
  {
   "cell_type": "code",
   "execution_count": 3,
   "metadata": {},
   "outputs": [
    {
     "name": "stdout",
     "output_type": "stream",
     "text": [
      "[0. 0. 0. 0. 0. 0. 0. 0. 1. 0.]\n"
     ]
    }
   ],
   "source": [
    "import numpy as np\n",
    "import matplotlib.pyplot as plt\n",
    "from tensorflow.keras import Sequential\n",
    "from tensorflow.keras.layers import Dense\n",
    "\n",
    "X = np.load('X.npy')\n",
    "y = np.load('y.npy')\n",
    "\n",
    "class_names = ['T-shirt/top',  # 0\n",
    "               'Trouser',      # 1\n",
    "               'Pullover',     # 2\n",
    "               'Dress',        # 3\n",
    "               'Coat',         # 4\n",
    "               'Sandal',       # 5\n",
    "               'Shirt',        # 6\n",
    "               'Sneaker',      # 7\n",
    "               'Bag',          # 8\n",
    "               'Ankle boot']   # 9\n",
    "\n",
    "plt.matshow(X[100].reshape(28, 28))\n",
    "print(y[100])\n"
   ]
  },
  {
   "cell_type": "code",
   "execution_count": 7,
   "metadata": {},
   "outputs": [],
   "source": [
    "model = Sequential([\n",
    "    Dense(128, 'relu', input_shape=(784,)),\n",
    "    Dense(10, 'softmax')\n",
    "])\n",
    "\n",
    "\n",
    "model.compile(optimizer='adam',\n",
    "              loss='mse')\n",
    "#  Also try loss='categorical_crossentropy', which is the appropriate loss\n",
    "# function for classification"
   ]
  },
  {
   "cell_type": "code",
   "execution_count": 8,
   "metadata": {},
   "outputs": [
    {
     "name": "stdout",
     "output_type": "stream",
     "text": [
      "Epoch 1/10\n",
      "1875/1875 [==============================] - 2s 1ms/step - loss: 0.0313\n",
      "Epoch 2/10\n",
      "1875/1875 [==============================] - 2s 818us/step - loss: 0.0206\n",
      "Epoch 3/10\n",
      "1875/1875 [==============================] - 2s 872us/step - loss: 0.0185\n",
      "Epoch 4/10\n",
      "1875/1875 [==============================] - 2s 947us/step - loss: 0.0172\n",
      "Epoch 5/10\n",
      "1875/1875 [==============================] - 2s 992us/step - loss: 0.0164\n",
      "Epoch 6/10\n",
      "1875/1875 [==============================] - 2s 1ms/step - loss: 0.0156\n",
      "Epoch 7/10\n",
      "1875/1875 [==============================] - 2s 914us/step - loss: 0.0149\n",
      "Epoch 8/10\n",
      "1875/1875 [==============================] - 2s 981us/step - loss: 0.0143\n",
      "Epoch 9/10\n",
      "1875/1875 [==============================] - 2s 977us/step - loss: 0.0139\n",
      "Epoch 10/10\n",
      "1875/1875 [==============================] - 2s 929us/step - loss: 0.0137\n"
     ]
    },
    {
     "data": {
      "text/plain": [
       "<tensorflow.python.keras.callbacks.History at 0x7f7d641c4910>"
      ]
     },
     "execution_count": 8,
     "metadata": {},
     "output_type": "execute_result"
    }
   ],
   "source": [
    "model.fit(X, y, epochs=10)"
   ]
  },
  {
   "cell_type": "code",
   "execution_count": 9,
   "metadata": {},
   "outputs": [
    {
     "name": "stdout",
     "output_type": "stream",
     "text": [
      "0.9155833333333333\n"
     ]
    }
   ],
   "source": [
    "# \"Evaluation\"\n",
    "prob = model.predict(X)\n",
    "predicted_labels = np.argmax(prob, axis=1)\n",
    "labels = np.argmax(y, axis=1)\n",
    "accuracy = (predicted_labels == labels).mean()\n",
    "print(accuracy)"
   ]
  },
  {
   "cell_type": "code",
   "execution_count": null,
   "metadata": {},
   "outputs": [],
   "source": []
  }
 ],
 "metadata": {
  "kernelspec": {
   "display_name": "Python 3",
   "language": "python",
   "name": "python3"
  },
  "language_info": {
   "codemirror_mode": {
    "name": "ipython",
    "version": 3
   },
   "file_extension": ".py",
   "mimetype": "text/x-python",
   "name": "python",
   "nbconvert_exporter": "python",
   "pygments_lexer": "ipython3",
   "version": "3.7.6"
  }
 },
 "nbformat": 4,
 "nbformat_minor": 4
}

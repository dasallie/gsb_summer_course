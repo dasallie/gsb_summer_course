{
 "cells": [
  {
   "cell_type": "code",
   "execution_count": 6,
   "metadata": {},
   "outputs": [
    {
     "name": "stdout",
     "output_type": "stream",
     "text": [
      "[ 1. -2.  1.]\n"
     ]
    }
   ],
   "source": [
    "import numpy as np\n",
    "import matplotlib.pyplot as plt\n",
    "\n",
    "a = 1\n",
    "b = 3\n",
    "\n",
    "S = np.array([2, 3, 4])\n",
    "payoff = np.array([1., 0., 0.])\n",
    "\n",
    "# Call options' payoffs\n",
    "call0 = np.maximum(S - a, 0)\n",
    "call1 = np.maximum(S - (a + b) / 2, 0)\n",
    "call2 = np.maximum(S - b, 0)\n",
    "\n",
    "\n",
    "# Now find the strategy that replicates the desired payoff\n",
    "X = np.column_stack([call0, call1, call2])\n",
    "y = payoff\n",
    "\n",
    "Θ = np.linalg.lstsq(X, y, rcond=None)[0]\n",
    "print(Θ)\n"
   ]
  },
  {
   "cell_type": "code",
   "execution_count": null,
   "metadata": {},
   "outputs": [],
   "source": []
  }
 ],
 "metadata": {
  "kernelspec": {
   "display_name": "Python 3",
   "language": "python",
   "name": "python3"
  },
  "language_info": {
   "codemirror_mode": {
    "name": "ipython",
    "version": 3
   },
   "file_extension": ".py",
   "mimetype": "text/x-python",
   "name": "python",
   "nbconvert_exporter": "python",
   "pygments_lexer": "ipython3",
   "version": "3.7.3"
  }
 },
 "nbformat": 4,
 "nbformat_minor": 2
}

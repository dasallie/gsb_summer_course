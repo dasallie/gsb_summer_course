{
 "cells": [
  {
   "cell_type": "code",
   "execution_count": 1,
   "metadata": {},
   "outputs": [],
   "source": [
    "import tensorflow as tf\n",
    "from tensorflow.keras import Sequential\n",
    "from tensorflow.keras.layers import Dense\n",
    "import numpy as np\n",
    "import matplotlib.pyplot as plt"
   ]
  },
  {
   "cell_type": "code",
   "execution_count": 2,
   "metadata": {},
   "outputs": [],
   "source": [
    "batch_size = 10000\n",
    "optimizer = tf.optimizers.Adam()"
   ]
  },
  {
   "cell_type": "code",
   "execution_count": 3,
   "metadata": {},
   "outputs": [
    {
     "name": "stdout",
     "output_type": "stream",
     "text": [
      "Model: \"sequential\"\n",
      "_________________________________________________________________\n",
      "Layer (type)                 Output Shape              Param #   \n",
      "=================================================================\n",
      "dense (Dense)                (None, 64)                128       \n",
      "_________________________________________________________________\n",
      "dense_1 (Dense)              (None, 32)                2080      \n",
      "_________________________________________________________________\n",
      "dense_2 (Dense)              (None, 1)                 33        \n",
      "=================================================================\n",
      "Total params: 2,241\n",
      "Trainable params: 2,241\n",
      "Non-trainable params: 0\n",
      "_________________________________________________________________\n"
     ]
    }
   ],
   "source": [
    "net = Sequential([Dense(64, 'relu', input_dim=1),\n",
    "                  Dense(32, 'relu'),\n",
    "                  Dense(1)])\n",
    "\n",
    "Θ = net.weights\n",
    "net.summary()"
   ]
  },
  {
   "cell_type": "code",
   "execution_count": 4,
   "metadata": {},
   "outputs": [],
   "source": [
    "def f(x):\n",
    "  return x**2\n",
    "\n",
    "\n",
    "def loss():\n",
    "  x = tf.random.uniform(shape=[batch_size, 1])\n",
    "  y_hat = net(x)\n",
    "  return tf.reduce_mean((y_hat - f(x))**2)\n",
    "  \n",
    "@tf.function\n",
    "def train_step():\n",
    "    optimizer.minimize(loss, Θ)\n"
   ]
  },
  {
   "cell_type": "code",
   "execution_count": 5,
   "metadata": {},
   "outputs": [
    {
     "name": "stdout",
     "output_type": "stream",
     "text": [
      "tf.Tensor(0.18723924, shape=(), dtype=float32)\n",
      "tf.Tensor(0.0035596557, shape=(), dtype=float32)\n",
      "tf.Tensor(0.00035927419, shape=(), dtype=float32)\n",
      "tf.Tensor(6.26869e-05, shape=(), dtype=float32)\n",
      "tf.Tensor(2.279686e-05, shape=(), dtype=float32)\n",
      "tf.Tensor(1.1224883e-05, shape=(), dtype=float32)\n",
      "tf.Tensor(7.0991764e-06, shape=(), dtype=float32)\n",
      "tf.Tensor(4.855595e-06, shape=(), dtype=float32)\n",
      "tf.Tensor(3.203259e-06, shape=(), dtype=float32)\n",
      "tf.Tensor(2.5712438e-06, shape=(), dtype=float32)\n"
     ]
    }
   ],
   "source": [
    "for i in range(1000):\n",
    "  train_step()"
   ]
  },
  {
   "cell_type": "code",
   "execution_count": 6,
   "metadata": {},
   "outputs": [
    {
     "data": {
      "text/plain": [
       "[<matplotlib.lines.Line2D at 0x7f612009c350>]"
      ]
     },
     "execution_count": 6,
     "metadata": {},
     "output_type": "execute_result"
    }
   ],
   "source": [
    "x = np.linspace(0, 1, 1000).reshape(-1, 1)\n",
    "plt.plot(x, f(x))\n",
    "plt.plot(x, net(x))\n"
   ]
  },
  {
   "cell_type": "code",
   "execution_count": null,
   "metadata": {},
   "outputs": [],
   "source": []
  }
 ],
 "metadata": {
  "kernelspec": {
   "display_name": "Python 3",
   "language": "python",
   "name": "python3"
  },
  "language_info": {
   "codemirror_mode": {
    "name": "ipython",
    "version": 3
   },
   "file_extension": ".py",
   "mimetype": "text/x-python",
   "name": "python",
   "nbconvert_exporter": "python",
   "pygments_lexer": "ipython3",
   "version": "3.7.6"
  }
 },
 "nbformat": 4,
 "nbformat_minor": 4
}
